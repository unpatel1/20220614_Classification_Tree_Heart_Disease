{
 "cells": [
  {
   "cell_type": "markdown",
   "id": "daebf6ee",
   "metadata": {},
   "source": [
    "# In Simple Steps: Classification Tree for Beginners"
   ]
  },
  {
   "cell_type": "markdown",
   "id": "8f5e69c2",
   "metadata": {},
   "source": [
    "* This is a Classification Tree project on a dataset for heart disease prediction. I got this dataset from UC Irvine Machine Learning Repository.  \n",
    "* UCI link for this dataset: \"https://archive.ics.uci.edu/ml/datasets/Heart+Disease\"  \n",
    "* The goal of this project is to build a Classification Tree model that can predict the probability of a patient having heart disease or not from the features in this dataset."
   ]
  },
  {
   "cell_type": "markdown",
   "id": "84d09583",
   "metadata": {},
   "source": [
    "**Credits to the creators of this dataset**"
   ]
  },
  {
   "cell_type": "raw",
   "id": "ab45ee06",
   "metadata": {},
   "source": [
    "I want to give credits to the following institutions and persons responsible for this dataset and made available to everyone.\n",
    "\n",
    "Creators: \n",
    "1. Hungarian Institute of Cardiology. Budapest: Andras Janosi, M.D.\n",
    "2. University Hospital, Zurich, Switzerland: William Steinbrunn, M.D.\n",
    "3. University Hospital, Basel, Switzerland: Matthias Pfisterer, M.D.\n",
    "4. V.A. Medical Center, Long Beach and Cleveland Clinic Foundation: Robert Detrano, M.D., Ph.D.\n",
    "\n",
    "Donor:  \n",
    "David W. Aha (www.ics.uci.edu)"
   ]
  },
  {
   "cell_type": "markdown",
   "id": "27184fec",
   "metadata": {},
   "source": [
    "**Importing necessary libraries**"
   ]
  },
  {
   "cell_type": "code",
   "execution_count": 1,
   "id": "e23d48f1",
   "metadata": {},
   "outputs": [],
   "source": [
    "import pandas as pd\n",
    "import numpy as np\n",
    "import matplotlib.pyplot as plt\n",
    "from sklearn.tree import DecisionTreeClassifier, plot_tree\n",
    "from sklearn.model_selection import train_test_split, cross_val_score\n",
    "from sklearn.metrics import confusion_matrix, plot_confusion_matrix\n",
    "\n",
    "%matplotlib inline\n",
    "import warnings\n",
    "warnings.filterwarnings('ignore')\n",
    "from tqdm import tqdm # Progress bar"
   ]
  },
  {
   "cell_type": "markdown",
   "id": "2d224d30",
   "metadata": {},
   "source": [
    "**Setting display options**"
   ]
  },
  {
   "cell_type": "code",
   "execution_count": 2,
   "id": "714d6bfa",
   "metadata": {},
   "outputs": [],
   "source": [
    "pd.options.display.max_columns = 100\n",
    "pd.options.display.max_colwidth = 100\n",
    "pd.options.display.precision = 5\n",
    "pd.options.display.float_format = '{:.3f}%'.format"
   ]
  },
  {
   "cell_type": "markdown",
   "id": "69a2c326",
   "metadata": {},
   "source": [
    "## Step 1 - Importing data"
   ]
  },
  {
   "cell_type": "code",
   "execution_count": 5,
   "id": "785e3a2e",
   "metadata": {},
   "outputs": [
    {
     "data": {
      "text/html": [
       "<div>\n",
       "<style scoped>\n",
       "    .dataframe tbody tr th:only-of-type {\n",
       "        vertical-align: middle;\n",
       "    }\n",
       "\n",
       "    .dataframe tbody tr th {\n",
       "        vertical-align: top;\n",
       "    }\n",
       "\n",
       "    .dataframe thead th {\n",
       "        text-align: right;\n",
       "    }\n",
       "</style>\n",
       "<table border=\"1\" class=\"dataframe\">\n",
       "  <thead>\n",
       "    <tr style=\"text-align: right;\">\n",
       "      <th></th>\n",
       "      <th>0</th>\n",
       "      <th>1</th>\n",
       "      <th>2</th>\n",
       "      <th>3</th>\n",
       "      <th>4</th>\n",
       "      <th>5</th>\n",
       "      <th>6</th>\n",
       "      <th>7</th>\n",
       "      <th>8</th>\n",
       "      <th>9</th>\n",
       "      <th>10</th>\n",
       "      <th>11</th>\n",
       "      <th>12</th>\n",
       "      <th>13</th>\n",
       "    </tr>\n",
       "  </thead>\n",
       "  <tbody>\n",
       "    <tr>\n",
       "      <th>0</th>\n",
       "      <td>63.000%</td>\n",
       "      <td>1.000%</td>\n",
       "      <td>1.000%</td>\n",
       "      <td>145.000%</td>\n",
       "      <td>233.000%</td>\n",
       "      <td>1.000%</td>\n",
       "      <td>2.000%</td>\n",
       "      <td>150.000%</td>\n",
       "      <td>0.000%</td>\n",
       "      <td>2.300%</td>\n",
       "      <td>3.000%</td>\n",
       "      <td>0.0</td>\n",
       "      <td>6.0</td>\n",
       "      <td>0</td>\n",
       "    </tr>\n",
       "    <tr>\n",
       "      <th>1</th>\n",
       "      <td>67.000%</td>\n",
       "      <td>1.000%</td>\n",
       "      <td>4.000%</td>\n",
       "      <td>160.000%</td>\n",
       "      <td>286.000%</td>\n",
       "      <td>0.000%</td>\n",
       "      <td>2.000%</td>\n",
       "      <td>108.000%</td>\n",
       "      <td>1.000%</td>\n",
       "      <td>1.500%</td>\n",
       "      <td>2.000%</td>\n",
       "      <td>3.0</td>\n",
       "      <td>3.0</td>\n",
       "      <td>2</td>\n",
       "    </tr>\n",
       "    <tr>\n",
       "      <th>2</th>\n",
       "      <td>67.000%</td>\n",
       "      <td>1.000%</td>\n",
       "      <td>4.000%</td>\n",
       "      <td>120.000%</td>\n",
       "      <td>229.000%</td>\n",
       "      <td>0.000%</td>\n",
       "      <td>2.000%</td>\n",
       "      <td>129.000%</td>\n",
       "      <td>1.000%</td>\n",
       "      <td>2.600%</td>\n",
       "      <td>2.000%</td>\n",
       "      <td>2.0</td>\n",
       "      <td>7.0</td>\n",
       "      <td>1</td>\n",
       "    </tr>\n",
       "    <tr>\n",
       "      <th>3</th>\n",
       "      <td>37.000%</td>\n",
       "      <td>1.000%</td>\n",
       "      <td>3.000%</td>\n",
       "      <td>130.000%</td>\n",
       "      <td>250.000%</td>\n",
       "      <td>0.000%</td>\n",
       "      <td>0.000%</td>\n",
       "      <td>187.000%</td>\n",
       "      <td>0.000%</td>\n",
       "      <td>3.500%</td>\n",
       "      <td>3.000%</td>\n",
       "      <td>0.0</td>\n",
       "      <td>3.0</td>\n",
       "      <td>0</td>\n",
       "    </tr>\n",
       "    <tr>\n",
       "      <th>4</th>\n",
       "      <td>41.000%</td>\n",
       "      <td>0.000%</td>\n",
       "      <td>2.000%</td>\n",
       "      <td>130.000%</td>\n",
       "      <td>204.000%</td>\n",
       "      <td>0.000%</td>\n",
       "      <td>2.000%</td>\n",
       "      <td>172.000%</td>\n",
       "      <td>0.000%</td>\n",
       "      <td>1.400%</td>\n",
       "      <td>1.000%</td>\n",
       "      <td>0.0</td>\n",
       "      <td>3.0</td>\n",
       "      <td>0</td>\n",
       "    </tr>\n",
       "    <tr>\n",
       "      <th>...</th>\n",
       "      <td>...</td>\n",
       "      <td>...</td>\n",
       "      <td>...</td>\n",
       "      <td>...</td>\n",
       "      <td>...</td>\n",
       "      <td>...</td>\n",
       "      <td>...</td>\n",
       "      <td>...</td>\n",
       "      <td>...</td>\n",
       "      <td>...</td>\n",
       "      <td>...</td>\n",
       "      <td>...</td>\n",
       "      <td>...</td>\n",
       "      <td>...</td>\n",
       "    </tr>\n",
       "    <tr>\n",
       "      <th>298</th>\n",
       "      <td>45.000%</td>\n",
       "      <td>1.000%</td>\n",
       "      <td>1.000%</td>\n",
       "      <td>110.000%</td>\n",
       "      <td>264.000%</td>\n",
       "      <td>0.000%</td>\n",
       "      <td>0.000%</td>\n",
       "      <td>132.000%</td>\n",
       "      <td>0.000%</td>\n",
       "      <td>1.200%</td>\n",
       "      <td>2.000%</td>\n",
       "      <td>0.0</td>\n",
       "      <td>7.0</td>\n",
       "      <td>1</td>\n",
       "    </tr>\n",
       "    <tr>\n",
       "      <th>299</th>\n",
       "      <td>68.000%</td>\n",
       "      <td>1.000%</td>\n",
       "      <td>4.000%</td>\n",
       "      <td>144.000%</td>\n",
       "      <td>193.000%</td>\n",
       "      <td>1.000%</td>\n",
       "      <td>0.000%</td>\n",
       "      <td>141.000%</td>\n",
       "      <td>0.000%</td>\n",
       "      <td>3.400%</td>\n",
       "      <td>2.000%</td>\n",
       "      <td>2.0</td>\n",
       "      <td>7.0</td>\n",
       "      <td>2</td>\n",
       "    </tr>\n",
       "    <tr>\n",
       "      <th>300</th>\n",
       "      <td>57.000%</td>\n",
       "      <td>1.000%</td>\n",
       "      <td>4.000%</td>\n",
       "      <td>130.000%</td>\n",
       "      <td>131.000%</td>\n",
       "      <td>0.000%</td>\n",
       "      <td>0.000%</td>\n",
       "      <td>115.000%</td>\n",
       "      <td>1.000%</td>\n",
       "      <td>1.200%</td>\n",
       "      <td>2.000%</td>\n",
       "      <td>1.0</td>\n",
       "      <td>7.0</td>\n",
       "      <td>3</td>\n",
       "    </tr>\n",
       "    <tr>\n",
       "      <th>301</th>\n",
       "      <td>57.000%</td>\n",
       "      <td>0.000%</td>\n",
       "      <td>2.000%</td>\n",
       "      <td>130.000%</td>\n",
       "      <td>236.000%</td>\n",
       "      <td>0.000%</td>\n",
       "      <td>2.000%</td>\n",
       "      <td>174.000%</td>\n",
       "      <td>0.000%</td>\n",
       "      <td>0.000%</td>\n",
       "      <td>2.000%</td>\n",
       "      <td>1.0</td>\n",
       "      <td>3.0</td>\n",
       "      <td>1</td>\n",
       "    </tr>\n",
       "    <tr>\n",
       "      <th>302</th>\n",
       "      <td>38.000%</td>\n",
       "      <td>1.000%</td>\n",
       "      <td>3.000%</td>\n",
       "      <td>138.000%</td>\n",
       "      <td>175.000%</td>\n",
       "      <td>0.000%</td>\n",
       "      <td>0.000%</td>\n",
       "      <td>173.000%</td>\n",
       "      <td>0.000%</td>\n",
       "      <td>0.000%</td>\n",
       "      <td>1.000%</td>\n",
       "      <td>?</td>\n",
       "      <td>3.0</td>\n",
       "      <td>0</td>\n",
       "    </tr>\n",
       "  </tbody>\n",
       "</table>\n",
       "<p>303 rows × 14 columns</p>\n",
       "</div>"
      ],
      "text/plain": [
       "         0      1      2        3        4      5      6        7      8   \\\n",
       "0   63.000% 1.000% 1.000% 145.000% 233.000% 1.000% 2.000% 150.000% 0.000%   \n",
       "1   67.000% 1.000% 4.000% 160.000% 286.000% 0.000% 2.000% 108.000% 1.000%   \n",
       "2   67.000% 1.000% 4.000% 120.000% 229.000% 0.000% 2.000% 129.000% 1.000%   \n",
       "3   37.000% 1.000% 3.000% 130.000% 250.000% 0.000% 0.000% 187.000% 0.000%   \n",
       "4   41.000% 0.000% 2.000% 130.000% 204.000% 0.000% 2.000% 172.000% 0.000%   \n",
       "..      ...    ...    ...      ...      ...    ...    ...      ...    ...   \n",
       "298 45.000% 1.000% 1.000% 110.000% 264.000% 0.000% 0.000% 132.000% 0.000%   \n",
       "299 68.000% 1.000% 4.000% 144.000% 193.000% 1.000% 0.000% 141.000% 0.000%   \n",
       "300 57.000% 1.000% 4.000% 130.000% 131.000% 0.000% 0.000% 115.000% 1.000%   \n",
       "301 57.000% 0.000% 2.000% 130.000% 236.000% 0.000% 2.000% 174.000% 0.000%   \n",
       "302 38.000% 1.000% 3.000% 138.000% 175.000% 0.000% 0.000% 173.000% 0.000%   \n",
       "\n",
       "        9      10   11   12  13  \n",
       "0   2.300% 3.000%  0.0  6.0   0  \n",
       "1   1.500% 2.000%  3.0  3.0   2  \n",
       "2   2.600% 2.000%  2.0  7.0   1  \n",
       "3   3.500% 3.000%  0.0  3.0   0  \n",
       "4   1.400% 1.000%  0.0  3.0   0  \n",
       "..     ...    ...  ...  ...  ..  \n",
       "298 1.200% 2.000%  0.0  7.0   1  \n",
       "299 3.400% 2.000%  2.0  7.0   2  \n",
       "300 1.200% 2.000%  1.0  7.0   3  \n",
       "301 0.000% 2.000%  1.0  3.0   1  \n",
       "302 0.000% 1.000%    ?  3.0   0  \n",
       "\n",
       "[303 rows x 14 columns]"
      ]
     },
     "execution_count": 5,
     "metadata": {},
     "output_type": "execute_result"
    }
   ],
   "source": [
    "df = pd.read_csv('processed.cleveland.data.csv', header = None)\n",
    "\n",
    "# This datafile file can also be imported directly from the UCI portal thru the following 2 lines of code.\n",
    "# url = \"https://archive.ics.uci.edu/ml/machine-learning-databases/heart-disease/processed.cleveland.data\"\n",
    "# df = pd.read_csv(url, header = None)\n",
    "\n",
    "df"
   ]
  },
  {
   "cell_type": "raw",
   "id": "0a66abef",
   "metadata": {},
   "source": [
    "Attribute Information:\n",
    "======================\n",
    "\n",
    "1. age: age in years\n",
    "2. sex: sex (1 = male; 0 = female)\n",
    "3. cp: chest pain type\n",
    "    -- Value 1: typical angina\n",
    "    -- Value 2: atypical angina\n",
    "    -- Value 3: non-anginal pain\n",
    "    -- Value 4: asymptomatic\n",
    "4. trestbps: resting blood pressure (in mm Hg on admission to the hospital)\n",
    "5. chol: serum cholestoral in mg/dl\n",
    "6. fbs: fasting blood sugar > 120 mg/dl (1 = true; 0 = false)\n",
    "7. restecg: resting electrocardiographic results\n",
    "    -- Value 0: normal\n",
    "    -- Value 1: having ST-T wave abnormality (T wave inversions and/or ST elevation or depression of > 0.05 mV)\n",
    "    -- Value 2: showing probable or definite left ventricular hypertrophy by Estes' criteria\n",
    "8. thalach: maximum heart rate achieved\n",
    "9. exang: exercise induced angina (1 = yes; 0 = no)\n",
    "10. oldpeak: ST depression induced by exercise relative to rest\n",
    "11. slope: the slope of the peak exercise ST segment\n",
    "    -- Value 1: upsloping\n",
    "    -- Value 2: flat\n",
    "    -- Value 3: downsloping\n",
    "12. ca: number of major vessels (0-3) colored by flourosopy\n",
    "13. thal: 3 = normal; 6 = fixed defect; 7 = reversable defect\n",
    "14. xnum (the predicted attribute): diagnosis of heart disease (angiographic disease status)\n",
    "    -- Value 0: < 50% diameter narrowing\n",
    "    -- Value 1: > 50% diameter narrowing"
   ]
  },
  {
   "cell_type": "code",
   "execution_count": null,
   "id": "e33af7ee",
   "metadata": {},
   "outputs": [],
   "source": [
    "\"age\",\"sex\",\"cp\",\"trestbps\",\"chol\",\"fbs\",\"restecg\",\"thalach\",\"exang\",\"oldpeak\",\"slope\",\"ca\",\"thal\",\"num\""
   ]
  },
  {
   "cell_type": "code",
   "execution_count": null,
   "id": "2627b27e",
   "metadata": {},
   "outputs": [],
   "source": []
  },
  {
   "cell_type": "markdown",
   "id": "9853e9ca",
   "metadata": {},
   "source": [
    "## Step 2 - Missing data"
   ]
  },
  {
   "cell_type": "code",
   "execution_count": null,
   "id": "a7eb1428",
   "metadata": {},
   "outputs": [],
   "source": []
  },
  {
   "cell_type": "code",
   "execution_count": null,
   "id": "c401ba55",
   "metadata": {},
   "outputs": [],
   "source": []
  },
  {
   "cell_type": "code",
   "execution_count": null,
   "id": "577909d9",
   "metadata": {},
   "outputs": [],
   "source": []
  },
  {
   "cell_type": "markdown",
   "id": "47f22fe3",
   "metadata": {},
   "source": [
    "## Step 3 - Formatting the data for Decision Trees"
   ]
  },
  {
   "cell_type": "code",
   "execution_count": null,
   "id": "40dac453",
   "metadata": {},
   "outputs": [],
   "source": []
  },
  {
   "cell_type": "code",
   "execution_count": null,
   "id": "32027336",
   "metadata": {},
   "outputs": [],
   "source": []
  },
  {
   "cell_type": "code",
   "execution_count": null,
   "id": "944df2be",
   "metadata": {},
   "outputs": [],
   "source": []
  },
  {
   "cell_type": "markdown",
   "id": "8bc7e86e",
   "metadata": {},
   "source": [
    "## Step 4"
   ]
  },
  {
   "cell_type": "code",
   "execution_count": 1,
   "id": "91c81a83",
   "metadata": {},
   "outputs": [
    {
     "data": {
      "text/plain": [
       "'C:\\\\Users\\\\unpat\\\\_Projects\\\\ML_Classification_Tree\\\\Classification_Tree_Heart_Disease'"
      ]
     },
     "execution_count": 1,
     "metadata": {},
     "output_type": "execute_result"
    }
   ],
   "source": [
    "pwd"
   ]
  },
  {
   "cell_type": "code",
   "execution_count": null,
   "id": "77aadda1",
   "metadata": {},
   "outputs": [],
   "source": []
  },
  {
   "cell_type": "code",
   "execution_count": null,
   "id": "c073f18f",
   "metadata": {},
   "outputs": [],
   "source": []
  },
  {
   "cell_type": "code",
   "execution_count": null,
   "id": "a035df16",
   "metadata": {},
   "outputs": [],
   "source": []
  },
  {
   "cell_type": "code",
   "execution_count": null,
   "id": "92535a2f",
   "metadata": {},
   "outputs": [],
   "source": []
  },
  {
   "cell_type": "code",
   "execution_count": null,
   "id": "7aa9f423",
   "metadata": {},
   "outputs": [],
   "source": []
  },
  {
   "cell_type": "code",
   "execution_count": null,
   "id": "3c0509fa",
   "metadata": {},
   "outputs": [],
   "source": []
  },
  {
   "cell_type": "code",
   "execution_count": null,
   "id": "cacf912b",
   "metadata": {},
   "outputs": [],
   "source": []
  },
  {
   "cell_type": "code",
   "execution_count": null,
   "id": "8660b424",
   "metadata": {},
   "outputs": [],
   "source": []
  },
  {
   "cell_type": "code",
   "execution_count": null,
   "id": "fdbc3e31",
   "metadata": {},
   "outputs": [],
   "source": []
  },
  {
   "cell_type": "code",
   "execution_count": null,
   "id": "505205f9",
   "metadata": {},
   "outputs": [],
   "source": []
  }
 ],
 "metadata": {
  "kernelspec": {
   "display_name": "Python 3 (ipykernel)",
   "language": "python",
   "name": "python3"
  },
  "language_info": {
   "codemirror_mode": {
    "name": "ipython",
    "version": 3
   },
   "file_extension": ".py",
   "mimetype": "text/x-python",
   "name": "python",
   "nbconvert_exporter": "python",
   "pygments_lexer": "ipython3",
   "version": "3.9.7"
  }
 },
 "nbformat": 4,
 "nbformat_minor": 5
}
